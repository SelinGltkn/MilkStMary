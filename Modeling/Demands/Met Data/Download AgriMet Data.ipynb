{
 "cells": [
  {
   "cell_type": "code",
   "execution_count": 1,
   "metadata": {},
   "outputs": [],
   "source": [
    "# Daily AgriMet Parameters\n",
    "# ET : Kimberly-Penman ETr (inches)\n",
    "# MM: Mean Temperature (degF)\n",
    "# MN: Minimum Temperature (degF)\n",
    "# MX: Maximum Temperature (degF)\n",
    "# PP: Daily precipitation total (in)\n",
    "# PU: Water year precipitaiton total (in)\n",
    "# SR: Daily accumulated solar radiation (langleys)\n",
    "# TA: Mean humidity (%)\n",
    "# UA: Daily Mean Wind Speed (mph)\n",
    "# WD: Wind Direction average (deg)"
   ]
  },
  {
   "cell_type": "code",
   "execution_count": null,
   "metadata": {},
   "outputs": [],
   "source": [
    "import AgriMetPy as agmet\n",
    "%matplotlib inline\n",
    "import matplotlib\n",
    "import numpy as np\n",
    "import matplotlib.pyplot as plt\n",
    "import json\n",
    "import ast\n",
    "import pandas as pd\n",
    "from datetime import datetime, timedelta\n",
    "# OS interaction\n",
    "import sys\n",
    "import os"
   ]
  },
  {
   "cell_type": "code",
   "execution_count": 24,
   "metadata": {},
   "outputs": [],
   "source": [
    "# Dictonary of Column Names - Map AgriMet Names to Standard Names\n",
    "\n",
    "pa_cw = {\n",
    "    'MN': 'tn',\n",
    "    'MX': 'tx',\n",
    "    'TA': 'rh',\n",
    "    'UA': 'ff',\n",
    "    'SR': 'sr',\n",
    "    'PP': 'rr'\n",
    "}\n",
    "\n",
    "# List of AgriMet Parameters\n",
    "\n",
    "pa_list = ['MN', 'MX', 'TA', 'UA', 'SR', 'PP']\n",
    "\n",
    "# Parameter Ranges for Quality Control (QC)\n",
    "\n",
    "pa_qc = pd.DataFrame(index=['Min', 'Max'], columns=pa_list)\n",
    "pa_qc['MX'] = np.array([-100,150])\n",
    "pa_qc['MN'] = np.array([-100,150])\n",
    "pa_qc['TA'] = np.array([0,100])\n",
    "pa_qc['UA'] = np.array([0,150])\n",
    "pa_qc['SR'] = np.array([0,10000])\n",
    "pa_qc['PP'] = np.array([0,50])\n",
    "\n",
    "pa_qc.rename(columns=pa_cw, inplace=True)\n",
    "\n",
    "# Parameter Unit Conversion\n",
    "\n",
    "pa_uc = pd.DataFrame(index=['Add', 'Mult'], columns=pa_list)\n",
    "pa_uc['MX'] = np.array([-32,5/9])\n",
    "pa_uc['MN'] = np.array([-32,5/9])\n",
    "pa_uc['TA'] = np.array([0,0])\n",
    "pa_uc['UA'] = np.array([0,0.44704])\n",
    "pa_uc['SR'] = np.array([0,0.484583])\n",
    "pa_uc['PP'] = np.array([0,25.4])\n",
    "\n",
    "pa_uc.rename(columns=pa_cw, inplace=True)"
   ]
  },
  {
   "cell_type": "code",
   "execution_count": 3,
   "metadata": {},
   "outputs": [],
   "source": [
    "def agrimet_to_df(start, end, st_list, pa_subset):\n",
    "    api_init = agmet.AgriMet(token = 'test')    \n",
    "    api_rtrn = api_init.timeseries(start = start, end = end, st = st_list, pa = pa_subset)\n",
    "    data_raw = api_rtrn['SITE']['DATA']\n",
    "    data_keys = list(data_raw[0].keys())\n",
    "    data_keys = data_keys[1:len(data_keys)]\n",
    "\n",
    "    # Parse Data to Pandas Dataframe\n",
    "    time_vec = [datetime.strptime(data_raw[cd]['DATE'], '%Y/%m/%d') for cd in range(len(data_raw))]\n",
    "    data_df = pd.DataFrame(index=time_vec, columns=data_keys)\n",
    "    for iter in range(0,len(data_raw)):\n",
    "        for key in data_keys:\n",
    "            data_df[key][iter] = float(data_raw[iter][key])\n",
    "    return(data_df)"
   ]
  },
  {
   "cell_type": "code",
   "execution_count": 5,
   "metadata": {},
   "outputs": [],
   "source": [
    "start = '19970401'\n",
    "end = '20180930'\n",
    "st_list = ['BFAM','BFTM','BOMT','GFMT','GLGM','HRLM','MATM','MWSM','TRFM']"
   ]
  },
  {
   "cell_type": "code",
   "execution_count": 47,
   "metadata": {},
   "outputs": [],
   "source": [
    "for st_sel in st_list:\n",
    "    # Check Parameter List Count\n",
    "    pa_ct = len(pa_list)\n",
    "\n",
    "    # If Parameter Count Greater Than 5, Split API Call into 2\n",
    "    if pa_ct > 5:\n",
    "        # Parameter Set 1 [Params 1-4]\n",
    "        pa_subset = ','.join(pa_list[0:4])\n",
    "        # API Call\n",
    "        df1 = agrimet_to_df(start, end, st_list, pa_subset)\n",
    "        # Parameter Set 2 [Params 5-6]\n",
    "        pa_subset2 = ','.join(pa_list[4:6])\n",
    "        # API Call\n",
    "        df2 = agrimet_to_df(start, end, st_list, pa_subset2)\n",
    "        # Merge Data Frames\n",
    "        df_out = pd.merge(df1,df2,left_index=True, right_index=True)\n",
    "    else:\n",
    "        pa_subset = ','.join(pa_list)\n",
    "        df_out = agrimet_to_df(start, end, st_list, pa_subset)\n",
    "        \n",
    "    # Rename Data Columns\n",
    "    df_out.rename(columns=pa_cw, inplace=True)\n",
    "    df_out.index.name='Date'\n",
    "\n",
    "    # QC Check and Unit Conversion\n",
    "    for col in df_out:\n",
    "        df_out[col + '_QC'] = np.where((df_out[col]>= pa_qc[col][0]) & (df_out[col]<= pa_qc[col][1]), 1, 0)\n",
    "        df_out[col] = (df_out[col] + pa_uc[col][0]) * pa_uc[col][1]  \n",
    "\n",
    "    # Save Data to File \n",
    "    file_out = st_sel + '.dat'\n",
    "    df_out.to_csv(file_out)"
   ]
  },
  {
   "cell_type": "code",
   "execution_count": 42,
   "metadata": {},
   "outputs": [],
   "source": [
    "df_filtered = df_out.query('tn_QC==1')"
   ]
  },
  {
   "cell_type": "code",
   "execution_count": 46,
   "metadata": {},
   "outputs": [
    {
     "data": {
      "text/plain": [
       "<matplotlib.axes._subplots.AxesSubplot at 0x178e17b7940>"
      ]
     },
     "execution_count": 46,
     "metadata": {},
     "output_type": "execute_result"
    },
    {
     "data": {
      "image/png": "[encoded data removed]",
      "text/plain": [
       "<Figure size 432x288 with 1 Axes>"
      ]
     },
     "metadata": {},
     "output_type": "display_data"
    }
   ],
   "source": [
    "df_filtered['rr'].plot()"
   ]
  }
 ],
 "metadata": {
  "kernelspec": {
   "display_name": "Python 3",
   "language": "python",
   "name": "python3"
  },
  "language_info": {
   "codemirror_mode": {
    "name": "ipython",
    "version": 3
   },
   "file_extension": ".py",
   "mimetype": "text/x-python",
   "name": "python",
   "nbconvert_exporter": "python",
   "pygments_lexer": "ipython3",
   "version": "3.6.5"
  }
 },
 "nbformat": 4,
 "nbformat_minor": 2
}
