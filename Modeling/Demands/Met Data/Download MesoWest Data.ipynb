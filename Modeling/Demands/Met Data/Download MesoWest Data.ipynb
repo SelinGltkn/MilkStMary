{
 "cells": [
  {
   "cell_type": "code",
   "execution_count": 1,
   "metadata": {},
   "outputs": [],
   "source": [
    "from MesoPy import Meso\n",
    "%matplotlib inline\n",
    "import matplotlib\n",
    "import numpy as np\n",
    "import matplotlib.pyplot as plt\n",
    "import json\n",
    "import ast\n",
    "import pandas as pd\n",
    "from datetime import datetime, timedelta\n",
    "# OS interaction\n",
    "import sys\n",
    "import os"
   ]
  },
  {
   "cell_type": "code",
   "execution_count": 2,
   "metadata": {},
   "outputs": [],
   "source": [
    "# Dictonary of Column Names - Map MesoNet Names to Standard Names\n",
    "\n",
    "pa_cw = {\n",
    "    'air_temp_set_1_amin': 'tn',\n",
    "    'air_temp_set_1_amax': 'tx',\n",
    "    'relative_humidity_set_1_mean': 'rh',\n",
    "    'dew_point_temperature_set_1_mean': 'td',\n",
    "    'wind_speed_set_1_median': 'ff',\n",
    "    'solar_radiation_set_1_sum': 'sr',\n",
    "    'PP': 'rr'\n",
    "}\n",
    "\n",
    "# List of MesoWest Variables\n",
    "\n",
    "var_list = ['air_temp_set_1', \n",
    "            'dew_point_temperature_set_1', \n",
    "            'relative_humidity_set_1', \n",
    "            'wind_speed_set_1',\n",
    "            'wind_direction_set_1',\n",
    "            'solar_radiation_set_1'] \n",
    "\n",
    "# Parameter Ranges for Quality Control (QC)\n",
    "\n",
    "pa_qc = pd.DataFrame(index=['Min', 'Max'], columns=var_list)\n",
    "pa_qc['air_temp_set_1_amin'] = np.array([-100,150])\n",
    "pa_qc['air_temp_set_1_amax'] = np.array([-100,150])\n",
    "pa_qc['relative_humidity_set_1_mean'] = np.array([0,100])\n",
    "pa_qc['dew_point_temperature_set_1_mean'] = np.array([-100,150])\n",
    "pa_qc['wind_speed_set_1_median'] = np.array([0,150])\n",
    "pa_qc['solar_radiation_set_1_sum'] = np.array([0,10000])\n",
    "\n",
    "pa_qc.rename(columns=pa_cw, inplace=True)"
   ]
  },
  {
   "cell_type": "code",
   "execution_count": 3,
   "metadata": {},
   "outputs": [],
   "source": [
    "def mesowest_api_download(token, date_start_inp, date_end_inp, sta_list):\n",
    "    mso = Meso(token=token)\n",
    "    date_start = date_start_inp.strftime('%Y%m%d%H%M')\n",
    "    date_end = date_end_inp.strftime('%Y%m%d%H%M')\n",
    "    \n",
    "    var_list = ['air_temp_set_1', 'dew_point_temperature_set_1', 'relative_humidity_set_1', 'wind_speed_set_1','wind_direction_set_1','solar_radiation_set_1'] \n",
    "\n",
    "    date_start = date_start_inp.strftime('%Y%m%d%H%M')\n",
    "    date_end = date_end_inp.strftime('%Y%m%d%H%M')\n",
    "\n",
    "    data_json = mso.timeseries(stid=sta_list, start=date_start, end=date_end)\n",
    "\n",
    "    # Get Station Info\n",
    "    ct_sta = data_json['SUMMARY']['NUMBER_OF_OBJECTS']\n",
    "    sta_info_elev = [ast.literal_eval(json.dumps(data_json['STATION'][iter_sta]['ELEVATION'])) for iter_sta in range(0,ct_sta)]\n",
    "    sta_info_lat = [ast.literal_eval(json.dumps(data_json['STATION'][iter_sta]['LATITUDE'])) for iter_sta in range(0,ct_sta)]\n",
    "    sta_info_lon = [ast.literal_eval(json.dumps(data_json['STATION'][iter_sta]['LONGITUDE'])) for iter_sta in range(0,ct_sta)]\n",
    "    sta_info_name = [ast.literal_eval(json.dumps(data_json['STATION'][iter_sta]['NAME'])) for iter_sta in range(0,ct_sta)]\n",
    "    sta_info_id = [ast.literal_eval(json.dumps(data_json['STATION'][iter_sta]['STID'])) for iter_sta in range(0,ct_sta)]\n",
    "\n",
    "    \n",
    "    # Parse Data to Pandas Dataframe\n",
    "    data_sta = data_json['STATION'][0]['OBSERVATIONS']\n",
    "    time_vec = [datetime.strptime(data_sta['date_time'][cd], '%Y-%m-%dT%H:%M:%SZ') for cd in range(len(data_sta['date_time']))]\n",
    "    index = time_vec\n",
    "    del data_sta['date_time']\n",
    "    columns = list(data_sta.keys())\n",
    "\n",
    "    data_df = pd.DataFrame(index=index, columns=columns)\n",
    "    for key in data_sta:\n",
    "        data_df[key] = data_sta[key]\n",
    "    \n",
    "    # Add in Columns for Missing Variables \n",
    "    for var in var_list:\n",
    "        if var not in data_df:\n",
    "            data_df[var] = np.nan\n",
    "        \n",
    "    # Aggregate Data to Daily\n",
    "    data_agg_df = data_df.resample('1D').agg({'air_temp_set_1' : [np.min, np.max], 'dew_point_temperature_set_1' : [np.mean], 'relative_humidity_set_1' : [np.mean], 'wind_speed_set_1' : [np.median], 'solar_radiation_set_1': np.sum})\n",
    "    data_agg_df.columns = [\"_\".join(x) for x in data_agg_df.columns.ravel()]\n",
    "    return(data_agg_df)"
   ]
  },
  {
   "cell_type": "code",
   "execution_count": 11,
   "metadata": {},
   "outputs": [
    {
     "name": "stdout",
     "output_type": "stream",
     "text": [
      "190631\n"
     ]
    }
   ],
   "source": [
    "date_start_inp = datetime(1997,1,1,0,0) \n",
    "date_end_inp = datetime(2018,9,30,23,0) \n",
    "token = '9f084cfd461244ae948d1c3ea4c7f0d5'\n",
    "sta_hours = int((date_end_inp-date_start_inp).total_seconds()/60/ 60) \n",
    "print(sta_hours) # full request station-hours if available\n",
    "# API will only allow 100,000 station-hours at a time \n",
    "\n",
    "stid_list = ['coam8',\n",
    " 'coopdvnm8',\n",
    " 'coopgltm8',\n",
    " 'coopsaom8',\n",
    " 'coopsdym8',\n",
    " 'd5963',\n",
    " 'e1880',\n",
    " 'e2671',\n",
    " 'e5606',\n",
    " 'ggwcr',\n",
    " 'ggwdo',\n",
    " 'ggwnm',\n",
    " 'ggwsc',\n",
    " 'ggwsw',\n",
    " 'ggwwr',\n",
    " 'hrlm',\n",
    " 'hwsm8',\n",
    " 'mscm8',\n",
    " 'mwsm']"
   ]
  },
  {
   "cell_type": "code",
   "execution_count": 14,
   "metadata": {},
   "outputs": [],
   "source": [
    "for stid_sel in stid_list:\n",
    "    # API Call\n",
    "    df_out = mesowest_api_download(token,date_start_inp,date_end_inp,stid_sel)\n",
    "        \n",
    "    # Rename Data Columns\n",
    "    df_out.rename(columns=pa_cw, inplace=True)\n",
    "    df_out.index.name='Date'\n",
    "\n",
    "    # QC Check and Unit Conversion\n",
    "    for col in df_out:\n",
    "        df_out[col + '_QC'] = np.where((df_out[col]>= pa_qc[col][0]) & (df_out[col]<= pa_qc[col][1]), 1, 0)\n",
    "        \n",
    "    # Save Data to File \n",
    "    file_out = stid_sel + '.dat'\n",
    "    df_out.to_csv(file_out)\n"
   ]
  },
  {
   "cell_type": "code",
   "execution_count": null,
   "metadata": {},
   "outputs": [],
   "source": []
  }
 ],
 "metadata": {
  "kernelspec": {
   "display_name": "Python 3",
   "language": "python",
   "name": "python3"
  },
  "language_info": {
   "codemirror_mode": {
    "name": "ipython",
    "version": 3
   },
   "file_extension": ".py",
   "mimetype": "text/x-python",
   "name": "python",
   "nbconvert_exporter": "python",
   "pygments_lexer": "ipython3",
   "version": "3.6.5"
  }
 },
 "nbformat": 4,
 "nbformat_minor": 2
}
